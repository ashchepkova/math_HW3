{
 "cells": [
  {
   "cell_type": "markdown",
   "metadata": {},
   "source": [
    "### Задание 1:"
   ]
  },
  {
   "cell_type": "markdown",
   "metadata": {},
   "source": [
    "Придумайте матрицы, которые обладают следующими свойствами:"
   ]
  },
  {
   "cell_type": "markdown",
   "metadata": {},
   "source": [
    "a) диагональная, ортогональная, но не единичная(!):\n",
    "\n",
    "b) верхнетреугольная, ортогональная:\n",
    "\n",
    "c) нижнетреугольная, ортогональная: \n",
    "\n",
    "d) матрица, у которой определитель = 1, и все элементы не равны 0:\n",
    "\n",
    "e) матрица (3x3), у которой определитель = 1:"
   ]
  },
  {
   "cell_type": "markdown",
   "metadata": {},
   "source": [
    "P.S. Во всех пунктах ответом должна быть ненулевая матрица размерности не менее 2!"
   ]
  },
  {
   "cell_type": "code",
   "execution_count": 4,
   "metadata": {},
   "outputs": [
    {
     "name": "stdout",
     "output_type": "stream",
     "text": [
      "[[ 0.54030231 -0.84147098]\n",
      " [ 0.84147098  0.54030231]]\n"
     ]
    }
   ],
   "source": [
    "# диагональная ортогональная\n",
    "import numpy as np\n",
    "import math\n",
    "m = np.array([[math.cos(1), - math.sin(1)],\n",
    "              [math.sin(1), math.cos(1)]])\n",
    "print(m)"
   ]
  },
  {
   "cell_type": "code",
   "execution_count": 5,
   "metadata": {},
   "outputs": [
    {
     "data": {
      "text/plain": [
       "array([[ 0.54030231,  0.84147098],\n",
       "       [-0.84147098,  0.54030231]])"
      ]
     },
     "execution_count": 5,
     "metadata": {},
     "output_type": "execute_result"
    }
   ],
   "source": [
    "m.T"
   ]
  },
  {
   "cell_type": "code",
   "execution_count": 6,
   "metadata": {},
   "outputs": [
    {
     "name": "stdout",
     "output_type": "stream",
     "text": [
      "[[ 0.54030231  0.84147098]\n",
      " [-0.84147098  0.54030231]]\n"
     ]
    }
   ],
   "source": [
    "m_inv = np.linalg.inv(m)\n",
    "print(m_inv)\n",
    "# m_inv = m.T"
   ]
  },
  {
   "cell_type": "code",
   "execution_count": 7,
   "metadata": {},
   "outputs": [
    {
     "data": {
      "text/plain": [
       "1.0"
      ]
     },
     "execution_count": 7,
     "metadata": {},
     "output_type": "execute_result"
    }
   ],
   "source": [
    "m[0][0] ** 2 + m[0][1] ** 2"
   ]
  },
  {
   "cell_type": "code",
   "execution_count": 8,
   "metadata": {},
   "outputs": [
    {
     "data": {
      "text/plain": [
       "0.0"
      ]
     },
     "execution_count": 8,
     "metadata": {},
     "output_type": "execute_result"
    }
   ],
   "source": [
    "m [0][0] * m [0][1] + m [1][0] * m [1][1]"
   ]
  },
  {
   "cell_type": "code",
   "execution_count": 64,
   "metadata": {},
   "outputs": [
    {
     "name": "stdout",
     "output_type": "stream",
     "text": [
      "[[0.71 -0.71]\n",
      " [0.00 0.71]]\n"
     ]
    }
   ],
   "source": [
    "# верхнетреугольная, ортогональная\n",
    "m = np.triu([[1 / np.sqrt(2), - 1 / np.sqrt(2)],[1 / np.sqrt(2), 1 / np.sqrt(2)]], 0)\n",
    "print(m)"
   ]
  },
  {
   "cell_type": "code",
   "execution_count": 10,
   "metadata": {},
   "outputs": [
    {
     "name": "stdout",
     "output_type": "stream",
     "text": [
      "[[0.70710678 0.        ]\n",
      " [0.70710678 0.70710678]]\n"
     ]
    }
   ],
   "source": [
    "# нижнетреугольная, ортогональная\n",
    "m = np.tril([[1 / np.sqrt(2), - 1 / np.sqrt(2)],[1 / np.sqrt(2), 1 / np.sqrt(2)]], 0)\n",
    "print(m)"
   ]
  },
  {
   "cell_type": "code",
   "execution_count": 66,
   "metadata": {},
   "outputs": [
    {
     "data": {
      "text/plain": [
       "array([[0.71, -0.71],\n",
       "       [0.71, 0.71]])"
      ]
     },
     "execution_count": 66,
     "metadata": {},
     "output_type": "execute_result"
    }
   ],
   "source": [
    "# матрица, у которой определитель = 1, и все элементы не равны 0\n",
    "m = np.array([[1 / np.sqrt(2), - 1 / np.sqrt(2)],[1 / np.sqrt(2), 1 / np.sqrt(2)]])\n",
    "m"
   ]
  },
  {
   "cell_type": "code",
   "execution_count": 67,
   "metadata": {},
   "outputs": [
    {
     "data": {
      "text/plain": [
       "0.9999999999999998"
      ]
     },
     "execution_count": 67,
     "metadata": {},
     "output_type": "execute_result"
    }
   ],
   "source": [
    "np.linalg.det(m)"
   ]
  },
  {
   "cell_type": "code",
   "execution_count": 70,
   "metadata": {},
   "outputs": [
    {
     "data": {
      "text/plain": [
       "array([[0, 0, 1],\n",
       "       [1, 0, 0],\n",
       "       [0, 1, 0]])"
      ]
     },
     "execution_count": 70,
     "metadata": {},
     "output_type": "execute_result"
    }
   ],
   "source": [
    "# матрица (3x3), у которой определитель = 1\n",
    "m = np.array([[0,0,1],[1,0,0], [0,1,0]])\n",
    "m"
   ]
  },
  {
   "cell_type": "code",
   "execution_count": 71,
   "metadata": {},
   "outputs": [
    {
     "data": {
      "text/plain": [
       "1.0"
      ]
     },
     "execution_count": 71,
     "metadata": {},
     "output_type": "execute_result"
    }
   ],
   "source": [
    "np.linalg.det(m)"
   ]
  },
  {
   "cell_type": "markdown",
   "metadata": {},
   "source": [
    "### Задание 2:"
   ]
  },
  {
   "cell_type": "markdown",
   "metadata": {},
   "source": [
    "Найдите собственные значения и собственные вектора матриц (необходимо решение на numpy и честное решение на бумаге:)"
   ]
  },
  {
   "cell_type": "code",
   "execution_count": 72,
   "metadata": {},
   "outputs": [
    {
     "name": "stdout",
     "output_type": "stream",
     "text": [
      "[[2 2]\n",
      " [1 3]]\n"
     ]
    }
   ],
   "source": [
    "m = np.array([[2, 2],\n",
    "              [1, 3]])\n",
    "print(m)"
   ]
  },
  {
   "cell_type": "code",
   "execution_count": 73,
   "metadata": {},
   "outputs": [
    {
     "name": "stdout",
     "output_type": "stream",
     "text": [
      "Собственное значение 1.0\n",
      "соответствующий ему собственный вектор [-0.89 0.45]\n",
      "Собственное значение 4.0\n",
      "соответствующий ему собственный вектор [-0.71 -0.71]\n"
     ]
    }
   ],
   "source": [
    "w, v = np.linalg.eig(m)\n",
    "for i in range(len(w)):\n",
    "    print(\"Собственное значение \" + str(w[i]))\n",
    "    print(\"соответствующий ему собственный вектор \" + str(v[:,i]))"
   ]
  },
  {
   "cell_type": "markdown",
   "metadata": {},
   "source": [
    "#Найти собственные числа\n",
    "#lambda ** 2 - 5 * lambda + 4  = 0\n",
    "#(5 +/- np.sqrt (25 - 4 * 1 * 4)) / 2 * 1 \n",
    "#(5 + 3) / 2 = 4\n",
    "#(5 - 3) / 2 = 1\n",
    "#Собственные числа сопадают с решением numpy"
   ]
  },
  {
   "cell_type": "markdown",
   "metadata": {},
   "source": [
    "### Задание 3:"
   ]
  },
  {
   "cell_type": "markdown",
   "metadata": {},
   "source": [
    "Найдите спектральное разложение матрицы (честное решение на бумаге и на numpy)"
   ]
  },
  {
   "cell_type": "code",
   "execution_count": 74,
   "metadata": {},
   "outputs": [
    {
     "name": "stdout",
     "output_type": "stream",
     "text": [
      "[[1 2]\n",
      " [2 3]]\n"
     ]
    }
   ],
   "source": [
    "m = np.array([[1, 2],\n",
    "              [2,3]])\n",
    "print(m)"
   ]
  },
  {
   "cell_type": "code",
   "execution_count": 75,
   "metadata": {},
   "outputs": [
    {
     "name": "stdout",
     "output_type": "stream",
     "text": [
      "Eigenvalues:\n",
      "[-0.24 4.24]\n",
      "\n",
      "Eigenvectors:\n",
      "[[-0.85 -0.53]\n",
      " [0.53 -0.85]]\n"
     ]
    }
   ],
   "source": [
    "a, U = linalg.eig(m)\n",
    "print('Eigenvalues:')\n",
    "print(np.array(a, dtype=float))\n",
    "print('\\nEigenvectors:')\n",
    "print(U)"
   ]
  },
  {
   "cell_type": "code",
   "execution_count": 76,
   "metadata": {},
   "outputs": [
    {
     "name": "stdout",
     "output_type": "stream",
     "text": [
      "[[1.00 2.00]\n",
      " [2.00 3.00]]\n"
     ]
    }
   ],
   "source": [
    "print(np.array(U.dot(np.diag(a)).dot(U.T), dtype=float))"
   ]
  },
  {
   "cell_type": "code",
   "execution_count": 77,
   "metadata": {
    "collapsed": true
   },
   "outputs": [],
   "source": [
    "u, s, v = np.linalg.svd(m)"
   ]
  },
  {
   "cell_type": "code",
   "execution_count": 78,
   "metadata": {},
   "outputs": [
    {
     "data": {
      "text/plain": [
       "array([[-0.53, -0.85],\n",
       "       [-0.85, 0.53]])"
      ]
     },
     "execution_count": 78,
     "metadata": {},
     "output_type": "execute_result"
    }
   ],
   "source": [
    "u"
   ]
  },
  {
   "cell_type": "code",
   "execution_count": 79,
   "metadata": {},
   "outputs": [
    {
     "data": {
      "text/plain": [
       "array([4.24, 0.24])"
      ]
     },
     "execution_count": 79,
     "metadata": {},
     "output_type": "execute_result"
    }
   ],
   "source": [
    "s"
   ]
  },
  {
   "cell_type": "code",
   "execution_count": 80,
   "metadata": {},
   "outputs": [
    {
     "data": {
      "text/plain": [
       "array([[-0.53, -0.85],\n",
       "       [0.85, -0.53]])"
      ]
     },
     "execution_count": 80,
     "metadata": {},
     "output_type": "execute_result"
    }
   ],
   "source": [
    "v"
   ]
  },
  {
   "cell_type": "markdown",
   "metadata": {},
   "source": [
    "### Задание 4:"
   ]
  },
  {
   "cell_type": "markdown",
   "metadata": {},
   "source": [
    "Постройте зависимость качества восстановления рукописных цифр (MNIST) в зависимости от различного количества компонент PCA. В качестве метрики различия предлагаю использовать MSE. "
   ]
  },
  {
   "cell_type": "code",
   "execution_count": 88,
   "metadata": {
    "collapsed": true
   },
   "outputs": [],
   "source": [
    "import numpy as np\n",
    "import pylab as pl\n",
    "import warnings\n",
    "\n",
    "from matplotlib import pyplot as plt\n",
    "from scipy import linalg\n",
    "from sklearn.datasets import load_digits\n",
    "from sklearn.decomposition import PCA\n",
    "from sklearn.ensemble import RandomForestClassifier\n",
    "warnings.filterwarnings(\"ignore\")"
   ]
  },
  {
   "cell_type": "code",
   "execution_count": 83,
   "metadata": {
    "collapsed": true
   },
   "outputs": [],
   "source": [
    "float_formatter = lambda x: \"%.2f\" % x\n",
    "np.set_printoptions(formatter={'float_kind':float_formatter})"
   ]
  },
  {
   "cell_type": "code",
   "execution_count": 84,
   "metadata": {
    "collapsed": true
   },
   "outputs": [],
   "source": [
    "X, y = load_digits(return_X_y=True)"
   ]
  },
  {
   "cell_type": "code",
   "execution_count": 85,
   "metadata": {},
   "outputs": [
    {
     "name": "stdout",
     "output_type": "stream",
     "text": [
      "(1797, 64)\n",
      "(1797,)\n"
     ]
    }
   ],
   "source": [
    "print(X.shape)\n",
    "print(y.shape)"
   ]
  },
  {
   "cell_type": "code",
   "execution_count": 90,
   "metadata": {
    "collapsed": true
   },
   "outputs": [],
   "source": [
    "pca = PCA(n_components=10)"
   ]
  },
  {
   "cell_type": "code",
   "execution_count": 91,
   "metadata": {},
   "outputs": [
    {
     "data": {
      "text/plain": [
       "PCA(copy=True, iterated_power='auto', n_components=10, random_state=None,\n",
       "    svd_solver='auto', tol=0.0, whiten=False)"
      ]
     },
     "execution_count": 91,
     "metadata": {},
     "output_type": "execute_result"
    }
   ],
   "source": [
    "pca.fit(X)"
   ]
  },
  {
   "cell_type": "code",
   "execution_count": 94,
   "metadata": {},
   "outputs": [
    {
     "name": "stdout",
     "output_type": "stream",
     "text": [
      "4.9142984688754945\n"
     ]
    }
   ],
   "source": [
    "X_hat = pca.inverse_transform(pca.transform(X))\n",
    "mse = ((X_hat - X)**2).mean(axis=None)\n",
    "print(mse)"
   ]
  },
  {
   "cell_type": "code",
   "execution_count": 130,
   "metadata": {
    "collapsed": true
   },
   "outputs": [],
   "source": [
    "def pca_mse(n):\n",
    "    pca = PCA(n_components=n, whiten=True)\n",
    "    pca.fit(X)\n",
    "    #X_red = pca.transform(X)\n",
    "    X_hat = pca.inverse_transform(pca.transform(X) )\n",
    "    mse = ((X_hat - X)**2).mean(axis=None)\n",
    "    return mse"
   ]
  },
  {
   "cell_type": "code",
   "execution_count": 165,
   "metadata": {},
   "outputs": [
    {
     "name": "stdout",
     "output_type": "stream",
     "text": [
      "0 18.773105271290895\n",
      "1 15.977678462234742\n",
      "2 13.421012200761572\n",
      "3 11.206800697129458\n",
      "4 9.62798640714143\n",
      "5 8.542447615318274\n",
      "6 7.6193908656404465\n",
      "7 6.809150143851631\n",
      "8 6.1218035333310326\n",
      "9 5.492287130062149\n",
      "10 4.91429766914227\n",
      "11 4.468940337285169\n",
      "12 4.0422967397423575\n",
      "13 3.700321644843467\n",
      "14 3.3672673834026035\n",
      "15 3.0919590322706623\n",
      "16 2.8272178083605635\n",
      "17 2.5796971948627756\n",
      "18 2.3453684364183807\n",
      "19 2.1543203636707013\n",
      "20 1.9843614805837013\n",
      "21 1.817296676797418\n",
      "22 1.6676654818833005\n",
      "23 1.5235917017836489\n",
      "24 1.3878848782688533\n",
      "25 1.2572066846814336\n",
      "26 1.1452996555310984\n",
      "27 1.0372504495929262\n",
      "28 0.9405686596923729\n",
      "29 0.8486396980332247\n",
      "30 0.7680994592488635\n",
      "31 0.697973168327025\n",
      "32 0.6316641712892839\n",
      "33 0.5684435230080905\n",
      "34 0.506851645070277\n",
      "35 0.4489706980461663\n",
      "36 0.3938173074252808\n",
      "37 0.34564637881820115\n",
      "38 0.3028931216974791\n",
      "39 0.2611634030528636\n",
      "40 0.22147132289694668\n",
      "41 0.18581949479365797\n",
      "42 0.15603541761847048\n",
      "43 0.1276580039930355\n",
      "44 0.10126700469810139\n",
      "45 0.07937337936466572\n",
      "46 0.05919369521897202\n",
      "47 0.041095425543331\n",
      "48 0.026553209917773216\n",
      "49 0.01609261877524609\n"
     ]
    }
   ],
   "source": [
    "mses = []\n",
    "N = 50\n",
    "for i in range(0,N):\n",
    "    m = pca_mse(i)\n",
    "    print(i,m)\n",
    "    mses.append((m))\n",
    "mses = np.array(mses)"
   ]
  },
  {
   "cell_type": "code",
   "execution_count": 166,
   "metadata": {},
   "outputs": [],
   "source": [
    "x = np.linspace(0, 49)\n",
    "y = mses"
   ]
  },
  {
   "cell_type": "code",
   "execution_count": 167,
   "metadata": {},
   "outputs": [
    {
     "data": {
      "text/plain": [
       "(50,)"
      ]
     },
     "execution_count": 167,
     "metadata": {},
     "output_type": "execute_result"
    }
   ],
   "source": [
    "x.shape"
   ]
  },
  {
   "cell_type": "code",
   "execution_count": 168,
   "metadata": {},
   "outputs": [
    {
     "data": {
      "text/plain": [
       "array([0.00, 1.00, 2.00, 3.00, 4.00, 5.00, 6.00, 7.00, 8.00, 9.00, 10.00,\n",
       "       11.00, 12.00, 13.00, 14.00, 15.00, 16.00, 17.00, 18.00, 19.00,\n",
       "       20.00, 21.00, 22.00, 23.00, 24.00, 25.00, 26.00, 27.00, 28.00,\n",
       "       29.00, 30.00, 31.00, 32.00, 33.00, 34.00, 35.00, 36.00, 37.00,\n",
       "       38.00, 39.00, 40.00, 41.00, 42.00, 43.00, 44.00, 45.00, 46.00,\n",
       "       47.00, 48.00, 49.00])"
      ]
     },
     "execution_count": 168,
     "metadata": {},
     "output_type": "execute_result"
    }
   ],
   "source": [
    "x"
   ]
  },
  {
   "cell_type": "code",
   "execution_count": 169,
   "metadata": {},
   "outputs": [
    {
     "data": {
      "text/plain": [
       "(50,)"
      ]
     },
     "execution_count": 169,
     "metadata": {},
     "output_type": "execute_result"
    }
   ],
   "source": [
    "mses.shape"
   ]
  },
  {
   "cell_type": "code",
   "execution_count": 170,
   "metadata": {},
   "outputs": [
    {
     "data": {
      "text/plain": [
       "array([18.77, 15.98, 13.42, 11.21, 9.63, 8.54, 7.62, 6.81, 6.12, 5.49,\n",
       "       4.91, 4.47, 4.04, 3.70, 3.37, 3.09, 2.83, 2.58, 2.35, 2.15, 1.98,\n",
       "       1.82, 1.67, 1.52, 1.39, 1.26, 1.15, 1.04, 0.94, 0.85, 0.77, 0.70,\n",
       "       0.63, 0.57, 0.51, 0.45, 0.39, 0.35, 0.30, 0.26, 0.22, 0.19, 0.16,\n",
       "       0.13, 0.10, 0.08, 0.06, 0.04, 0.03, 0.02])"
      ]
     },
     "execution_count": 170,
     "metadata": {},
     "output_type": "execute_result"
    }
   ],
   "source": [
    "y"
   ]
  },
  {
   "cell_type": "code",
   "execution_count": 171,
   "metadata": {},
   "outputs": [
    {
     "data": {
      "text/plain": [
       "[<matplotlib.lines.Line2D at 0x12541eba8>]"
      ]
     },
     "execution_count": 171,
     "metadata": {},
     "output_type": "execute_result"
    },
    {
     "data": {
      "image/png": "[encoded data removed]",
      "text/plain": [
       "<Figure size 432x288 with 1 Axes>"
      ]
     },
     "metadata": {
      "needs_background": "light"
     },
     "output_type": "display_data"
    }
   ],
   "source": [
    "plt.title(\"Линейная зависимость mse\") \n",
    "plt.xlabel(\"n components\")\n",
    "plt.ylabel(\"mse\") \n",
    "plt.grid() \n",
    "plt.plot(x, y)"
   ]
  }
 ],
 "metadata": {
  "kernelspec": {
   "display_name": "Python (other-env)",
   "language": "python",
   "name": "other-env"
  },
  "language_info": {
   "codemirror_mode": {
    "name": "ipython",
    "version": 3
   },
   "file_extension": ".py",
   "mimetype": "text/x-python",
   "name": "python",
   "nbconvert_exporter": "python",
   "pygments_lexer": "ipython3",
   "version": "3.7.1"
  }
 },
 "nbformat": 4,
 "nbformat_minor": 2
}
